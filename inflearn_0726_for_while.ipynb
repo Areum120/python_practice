{
 "cells": [
  {
   "cell_type": "code",
   "execution_count": 6,
   "metadata": {},
   "outputs": [
    {
     "name": "stdout",
     "output_type": "stream",
     "text": [
      "<class 'range'>\n",
      "<class 'list'>\n"
     ]
    }
   ],
   "source": [
    "# 자료구조 퀴즈\n",
    "\n",
    "from random import*\n",
    "users = range(1, 21) #1부터 20까지 숫자 생성\n",
    "print(type(users))\n",
    "users = list(users)\n",
    "print(type(users))\n"
   ]
  },
  {
   "cell_type": "code",
   "execution_count": 8,
   "metadata": {},
   "outputs": [
    {
     "name": "stdout",
     "output_type": "stream",
     "text": [
      "[19, 9, 1, 20, 8, 3, 16, 7, 12, 17, 18, 13, 6, 5, 2, 15, 10, 14, 4, 11]\n",
      "[4, 19, 2, 6, 20, 7, 3, 12, 14, 9, 1, 10, 18, 16, 5, 11, 13, 8, 17, 15]\n",
      "--당첨자 발표--\n",
      "치킨 당첨자 : 19\n",
      "커피 당첨자 : [6, 12, 2]\n",
      "--축하합니다--\n"
     ]
    }
   ],
   "source": [
    "print(users)\n",
    "shuffle(users)\n",
    "print(users)\n",
    "\n",
    "winners = sample(users, 4)\n",
    "\n",
    "print(\"--당첨자 발표--\")\n",
    "print(\"치킨 당첨자 : {0}\".format(winners[0]))\n",
    "print(\"커피 당첨자 : {0}\".format(winners[1:]))\n",
    "print(\"--축하합니다--\")"
   ]
  },
  {
   "cell_type": "code",
   "execution_count": 14,
   "metadata": {
    "scrolled": true
   },
   "outputs": [
    {
     "name": "stdout",
     "output_type": "stream",
     "text": [
      "준비물 필요 없어요\n"
     ]
    }
   ],
   "source": [
    "#조건 IF\n",
    "weather = \"맑아요\"\n",
    "\n",
    "if weather == \"비\":\n",
    "    print(\"우산을 챙기세요\")\n",
    "elif weather == \"미세먼지\":\n",
    "    print(\"마스크를 챙기세요\")\n",
    "else:\n",
    "    print(\"준비물 필요 없어요\")    \n",
    "     "
   ]
  },
  {
   "cell_type": "code",
   "execution_count": 15,
   "metadata": {},
   "outputs": [
    {
     "name": "stdout",
     "output_type": "stream",
     "text": [
      "기온은 어때요?10\n",
      "괜찮은 날씨에요\n"
     ]
    }
   ],
   "source": [
    "temp = int(input(\"기온은 어때요?\"))\n",
    "if 30 <= temp:\n",
    "    print(\"너무 더워요. 나가지 마세요\")\n",
    "elif 10 <= temp and temp <30:\n",
    "    print(\"괜찮은 날씨에요\")\n",
    "elif 0 <= temp <10:\n",
    "    print(\"외투를 챙기세요\")\n",
    "else:\n",
    "    print(\"너무 추워요. 나가지 마세요\")\n",
    "    "
   ]
  },
  {
   "cell_type": "code",
   "execution_count": 21,
   "metadata": {},
   "outputs": [
    {
     "name": "stdout",
     "output_type": "stream",
     "text": [
      "대기번호 : 0\n",
      "대기번호 : 1\n",
      "대기번호 : 2\n",
      "대기번호 : 3\n",
      "대기번호 : 4\n"
     ]
    }
   ],
   "source": [
    "#for문\n",
    "#예1\n",
    "for waiting_no in range(5):\n",
    "    print(\"대기번호 : {0}\".format(waiting_no))"
   ]
  },
  {
   "cell_type": "code",
   "execution_count": 18,
   "metadata": {
    "scrolled": true
   },
   "outputs": [
    {
     "name": "stdout",
     "output_type": "stream",
     "text": [
      "아이언맨, 커피가 준비되었습니다\n",
      "토르, 커피가 준비되었습니다\n",
      "아이엠 그루트, 커피가 준비되었습니다\n"
     ]
    }
   ],
   "source": [
    "#예2\n",
    "\n",
    "starbucks = [\"아이언맨\", \"토르\", \"아이엠 그루트\"]\n",
    "\n",
    "for customer in starbucks:\n",
    "    print(\"{0}, 커피가 준비되었습니다\".format(customer))"
   ]
  },
  {
   "cell_type": "code",
   "execution_count": null,
   "metadata": {},
   "outputs": [],
   "source": [
    "#while 조건을 만족할 때까지 계속 반복 컨트롤 C하면 탈출\n",
    "\n",
    "customer = \"토르\"\n",
    "person = \"Unknown\"\n",
    "\n",
    "while person != customer:\n",
    "    print(\"{0}, 커피가 준비 되었습니다.\".format(customer))\n",
    "    person = input(\"이름이 어떻게 되세요?\")\n"
   ]
  },
  {
   "cell_type": "code",
   "execution_count": null,
   "metadata": {},
   "outputs": [],
   "source": [
    "#continue와 break\n",
    "\n",
    "absent = [2,5] #결석\n",
    "no_book = [7] #책을 안가져옴\n",
    "for student in range(1,11): #1,2,3,4,5,6,7,8,9,10\n",
    "    if student in absent:\n",
    "        continue\n",
    "    elif student in no_book:\n",
    "        print(\"오늘 수업 여기까지. {0}는 교무실로 따라와\".format(student))\n",
    "        break\n",
    "        print(\"{0}, 책을 읽어봐\".format(student))\n",
    "    \n"
   ]
  },
  {
   "cell_type": "code",
   "execution_count": null,
   "metadata": {},
   "outputs": [],
   "source": [
    "#출석번호가 1234, 앞에 100을 붙이기로 함 -> 101, 102, 103, 104\n",
    "\n",
    "students = [1,2,3,4,5]\n",
    "print(students)\n",
    "students = [i+100 for 1 in students]\n",
    "print(students)\n",
    "\n",
    "students = [\"Iron man\", \"Thor\", \"I am groot\"]\n",
    "students = [len(i) for i in students]\n",
    "print(students)\n",
    "\n",
    "#학생 이름을 대문자로 변환\n",
    "students = [\"Iron man\", \"Thor\", \"I am groot\"]\n",
    "students = [i.upper() for i in students]\n",
    "print(students)\n",
    "\n"
   ]
  },
  {
   "cell_type": "code",
   "execution_count": null,
   "metadata": {},
   "outputs": [],
   "source": []
  }
 ],
 "metadata": {
  "kernelspec": {
   "display_name": "Python 3",
   "language": "python",
   "name": "python3"
  },
  "language_info": {
   "codemirror_mode": {
    "name": "ipython",
    "version": 3
   },
   "file_extension": ".py",
   "mimetype": "text/x-python",
   "name": "python",
   "nbconvert_exporter": "python",
   "pygments_lexer": "ipython3",
   "version": "3.8.4"
  }
 },
 "nbformat": 4,
 "nbformat_minor": 4
}
