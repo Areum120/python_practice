{
 "cells": [
  {
   "cell_type": "code",
   "execution_count": 48,
   "metadata": {},
   "outputs": [
    {
     "name": "stdout",
     "output_type": "stream",
     "text": [
      "5\n",
      "10\n",
      "3.14\n",
      "1000\n",
      "8\n",
      "6\n",
      "12\n",
      "True\n",
      "6\n",
      "8\n",
      "4.0\n",
      "ㅋㅋㅋ\n"
     ]
    }
   ],
   "source": [
    "#숫자 자료형 이해\n",
    "\n",
    "print(5)\n",
    "print(10)\n",
    "print(3.14)\n",
    "print(1000)\n",
    "print(5+3)\n",
    "print(2*3)\n",
    "print(3*(3+1))\n",
    "print(not(5>10))\n",
    "\n",
    "number = 2*3\n",
    "print(number)\n",
    "\n",
    "number = number + 2\n",
    "print(number)\n",
    "\n",
    "number /= 2\n",
    "print(number)\n",
    "\n",
    "#위의 수식을 받고 내려오면서 수식 계산 ''/= 2'는 위의 수식에서 2로 나눈다는 뜻 \n",
    "\n",
    "\n",
    "#문자열 자료형\n",
    "\n",
    "print('ㅋ'*3)\n",
    "\n",
    "#'''이것도 주석처리됨 쥬파이터는 적용x'''"
   ]
  },
  {
   "cell_type": "code",
   "execution_count": 65,
   "metadata": {
    "scrolled": true
   },
   "outputs": [
    {
     "name": "stdout",
     "output_type": "stream",
     "text": [
      "성별 :1\n",
      "년도 : 99\n",
      "월 : 01\n",
      "일:20\n",
      "생년월일 : 990120\n",
      "뒤 7자리:1234567\n",
      "뒤 7자리 (뒤에부터):1234567\n"
     ]
    }
   ],
   "source": [
    "#문자열 슬라이싱\n",
    "\n",
    "jumin = \"990120-1234567\"\n",
    "\n",
    "print(\"성별 :\" + jumin[7])\n",
    "print(\"년도 : \" + jumin[0:2])\n",
    "print(\"월 : \"+ jumin[2:4])\n",
    "print(\"일:\" + jumin[4:6])\n",
    "\n",
    "print(\"생년월일 : \" + jumin[:6]) #처음부터 6 직전까지\n",
    "print(\"뒤 7자리:\" + jumin[7:]) #7부터 끝까지\n",
    "print(\"뒤 7자리 (뒤에부터):\" + jumin[-7:])\n",
    " #맨 뒤에서 7번째부터 끝까지 "
   ]
  },
  {
   "cell_type": "code",
   "execution_count": 72,
   "metadata": {},
   "outputs": [
    {
     "name": "stdout",
     "output_type": "stream",
     "text": [
      "python is amazing\n",
      "PYTHON IS AMAZING\n",
      "True\n",
      "17\n",
      "Java is Amazing\n",
      "5\n",
      "15\n",
      "-1\n",
      "2\n"
     ]
    }
   ],
   "source": [
    "# 문자열처리함수\n",
    "\n",
    "python = \"Python is Amazing\"\n",
    "print(python.lower())\n",
    "print(python.upper())\n",
    "print(python[0].isupper()) #첫번째 문자열이 대문자인지 확인\n",
    "print(len(python))\n",
    "\n",
    "print(python.replace(\"Python\", \"Java\")) #문자열을 바꿔주는 것\n",
    "\n",
    "index = python.index(\"n\")\n",
    "print(index)\n",
    "#n이 몇번째 위치에 있는지\n",
    "\n",
    "index = python.index(\"n\", index + 1)\n",
    "print(index)\n",
    "\n",
    "#앞에서 찾은 위치 6번째부터 2번째 n을 찾을 때\n",
    "\n",
    "print(python.find(\"java\"))\n",
    "#내가 원하는 값이 포함되어 있지 않은 경우 -1로 값을 돌려줌\n",
    "#find 대신 index에서는 프로그램을 종료해버림\n",
    "\n",
    "print(python.count(\"n\"))\n",
    "#n이 총 몇번 등장하는지\n",
    "\n",
    "\n"
   ]
  },
  {
   "cell_type": "code",
   "execution_count": 80,
   "metadata": {},
   "outputs": [
    {
     "ename": "SyntaxError",
     "evalue": "EOL while scanning string literal (<ipython-input-80-92ef79cd1613>, line 34)",
     "output_type": "error",
     "traceback": [
      "\u001b[1;36m  File \u001b[1;32m\"<ipython-input-80-92ef79cd1613>\"\u001b[1;36m, line \u001b[1;32m34\u001b[0m\n\u001b[1;33m    print(f\"나는 {age}살이며, {color}색을 좋아해요.)\u001b[0m\n\u001b[1;37m                                         ^\u001b[0m\n\u001b[1;31mSyntaxError\u001b[0m\u001b[1;31m:\u001b[0m EOL while scanning string literal\n"
     ]
    }
   ],
   "source": [
    "# 문자열포맷\n",
    "\n",
    "print(\"a\"+\"b\")\n",
    "print(\"a\", \"b\")\n",
    "\n",
    "#방법 1\n",
    "print(\"나는 %d살입니다.\" % 20) #d는 정수값만\n",
    "print(\"나는 %s을 좋아해요.\" % \"파이썬\") #문자열 값\n",
    "print(\"Apple은 %c로 시작해요.\" %\"A\") #문자 즉, 한글자만 받겠다는 것\n",
    "\n",
    "#%s를 가지고 사용시 정수값도 받음\n",
    "\n",
    "print(\"나는 %s색과 %s색을 좋아해요\" % (\"파란\", \"빨간\"))\n",
    "\n",
    "\n",
    "#방법2\n",
    "print(\"나는 {}살입니다\".format(20))\n",
    "print(\"나는 {}색과 {}색을 좋아해요.\". format(\"파란\", \"빨간\"))\n",
    "\n",
    "#숫자를 넣으면 순번에 맞게 출력\n",
    "print(\"나는 {0}색과 {1}색을 좋아해요.\". format(\"파란\", \"빨간\"))\n",
    "print(\"나는 {1}색과 {0}색을 좋아해요.\". format(\"파란\", \"빨간\"))\n",
    "\n",
    "#방법3\n",
    "\n",
    "print(\"나는 {age}살이며, {color}색을 좋아해요.\".format(age = 20, color=\"빨간\"))\n",
    "\n",
    "#중괄호 안은 str 처리 안해도 됨\n",
    "\n",
    "#방법 4 (v3.6 이상~)\n",
    "\n",
    "age = 20\n",
    "color = \"빨간\"\n",
    "print(f\"나는 {age}살이며, {color}색을 좋아해요.)\n"
   ]
  },
  {
   "cell_type": "code",
   "execution_count": 86,
   "metadata": {},
   "outputs": [
    {
     "name": "stdout",
     "output_type": "stream",
     "text": [
      "백문이 불여일견 \n",
      " 백견이 불여일타\n",
      "저는 '나도코딩'입니다.\n",
      "Red Apple\r",
      "Pine\n"
     ]
    }
   ],
   "source": [
    "#탈출문자\n",
    "\n",
    "print(\"백문이 불여일견 \\n 백견이 불여일타\") #줄바꿈\n",
    "\n",
    "# \\\"\\''\" : 문장 내에서 따옴표\n",
    "\n",
    "# print(\"저는 '나도코딩'입니다.\")\n",
    "# print('저는 \"나도코딩\"입니다.'')\n",
    "\n",
    "print(\"저는 \\'나도코딩\\'입니다.\")\n",
    "\n",
    "#\\\\ : 문장 내에서 \\ 하나의 슬러시로 바뀜\n",
    "#경로 문장내에서 역슬러시 하나만 있으면 오류 -> 역슬러시를 각 경로에 두번씩 넣어주면 됨\n",
    "\n",
    "#\\r : 커서를 맨 앞으로 이동\n",
    "\n",
    "print(\"Red Apple\\rPine\")\n",
    "\n",
    "#\\b : 백스페이스 역할 (한 글자 삭제)\n",
    "print(\"Redd\\bApple\")\n",
    "\n",
    "# \\t : 탭\n",
    "print(\"Red\\tApple\")\n"
   ]
  },
  {
   "cell_type": "code",
   "execution_count": 44,
   "metadata": {},
   "outputs": [
    {
     "name": "stdout",
     "output_type": "stream",
     "text": [
      "False\n",
      "True\n",
      "True\n",
      "False\n",
      "False\n",
      "True\n",
      "True\n",
      "True\n",
      "False\n",
      "True\n",
      "True\n",
      "True\n"
     ]
    }
   ],
   "source": [
    "#boolean 자료형 이해 #참과 거짓 표현\n",
    "\n",
    "print(2>3)\n",
    "print(2<4)\n",
    "print(True)\n",
    "print(False)\n",
    "print(not True)\n",
    "print(not False)\n",
    "print (3 == 3)\n",
    "print (2<=2)\n",
    "print(not(1!= 3))\n",
    "print ((3>0) and (3<5)) #and대신 &를 쓸 수 있음\n",
    "print((3>0) or (2<4)) #or 대신 바로 쓸수 있음\n",
    "\n",
    "print(5> 3 >2)\n"
   ]
  },
  {
   "cell_type": "code",
   "execution_count": 4,
   "metadata": {},
   "outputs": [
    {
     "name": "stdout",
     "output_type": "stream",
     "text": [
      "우리집강아지의 이름은초롱이에요\n",
      "초롱이는4살이며,산책을 아주 좋아해요\n",
      "초롱이는 어른일까요?True\n"
     ]
    }
   ],
   "source": [
    "#변수 이해\n",
    "\n",
    "#Q 애완동물을 소개해주세요\n",
    "\n",
    "animal = \"강아지\"\n",
    "name = \"초롱이\"\n",
    "age = 4\n",
    "hobby = \"산책\"\n",
    "#bool 사용\n",
    "is_adult = age >= 3\n",
    "\n",
    "print(\"우리집\" + animal +\"의 이름은\" + name + \"에요\")\n",
    "print(name + \"는\" + str(age) + \"살이며,\" + hobby + \"을 아주 좋아해요\")\n",
    "print(name + \"는 어른일까요?\" + str(is_adult))\n",
    "\n",
    "#print 내 문에서 숫자를 쓰려면 str로 변환\n"
   ]
  },
  {
   "cell_type": "code",
   "execution_count": 30,
   "metadata": {},
   "outputs": [
    {
     "name": "stdout",
     "output_type": "stream",
     "text": [
      "신도림행 열차가 들어오고 있습니다\n"
     ]
    }
   ],
   "source": [
    "# Quiz1\n",
    "\n",
    "station = \"신도림\"\n",
    "print (station + \"행 열차가 들어오고 있습니다\")\n",
    "\n"
   ]
  },
  {
   "cell_type": "code",
   "execution_count": 53,
   "metadata": {
    "scrolled": true
   },
   "outputs": [
    {
     "ename": "SyntaxError",
     "evalue": "invalid syntax (<ipython-input-53-a9aacaebe1dd>, line 9)",
     "output_type": "error",
     "traceback": [
      "\u001b[1;36m  File \u001b[1;32m\"<ipython-input-53-a9aacaebe1dd>\"\u001b[1;36m, line \u001b[1;32m9\u001b[0m\n\u001b[1;33m    from math import * math #라이브러리의 모든것을 이용하겠다란 뜻\u001b[0m\n\u001b[1;37m                       ^\u001b[0m\n\u001b[1;31mSyntaxError\u001b[0m\u001b[1;31m:\u001b[0m invalid syntax\n"
     ]
    }
   ],
   "source": [
    "# 숫자처리함수\n",
    "\n",
    "print(abs(-5))\n",
    "print(pow(4,2))\n",
    "print(max(5,1))\n",
    "print(min(5,1))\n",
    "print(round(3.14)) #반올림함수\n",
    "\n",
    "# from math import * math #라이브러리의 모든것을 이용하겠다란 뜻 \n",
    "\n",
    "# print(floor(4.99)) #내림\n",
    "# print(celi(3.14)) #올림\n",
    "# print(sqrt(16)) #제곱근\n",
    "\n"
   ]
  },
  {
   "cell_type": "code",
   "execution_count": 60,
   "metadata": {},
   "outputs": [
    {
     "name": "stdout",
     "output_type": "stream",
     "text": [
      "0.7751614105317635\n",
      "7.081517192198779\n",
      "7\n",
      "3\n",
      "19\n",
      "13\n"
     ]
    }
   ],
   "source": [
    "# 랜덤함수\n",
    "\n",
    "from random import*\n",
    "\n",
    "print(random()) #0.0~1.0 미만의 임의의 값 생성\n",
    "print(random()*10) #0.0~10.0 이하의 임의의 값 생성\n",
    "\n",
    "print(int(random()*10)) #0~10 이하의 임의의 값 생성\n",
    "print(int(random()*10+1))\n",
    "\n",
    "#로또 숫자 생성\n",
    "\n",
    "print(randrange(1, 46)) #1~46 미만의 임의의 값 생성\n",
    "\n",
    "print(randint(1, 45)) # 1~45 이하의 임의의 값 생성, 1, 45 모두 포함\n",
    "\n"
   ]
  },
  {
   "cell_type": "code",
   "execution_count": 64,
   "metadata": {},
   "outputs": [
    {
     "name": "stdout",
     "output_type": "stream",
     "text": [
      "오프라인 스터디 모임 날짜는 매월27일로 선정되었습니다.\n"
     ]
    }
   ],
   "source": [
    "# Quiz2\n",
    "\n",
    "from random import*\n",
    "\n",
    "study_date = randint(4, 28)\n",
    "print(\"오프라인 스터디 모임 날짜는 매월\"+ str(study_date) + \"일로 선정되었습니다.\")\n",
    "\n",
    "\n"
   ]
  },
  {
   "cell_type": "code",
   "execution_count": 114,
   "metadata": {},
   "outputs": [
    {
     "name": "stdout",
     "output_type": "stream",
     "text": [
      "http://naver.com의 비밀번호는 nav51!입니다\n"
     ]
    }
   ],
   "source": [
    "# Quiz3\n",
    "\n",
    "site = \"http://naver.com\"\n",
    "my = site.replace(\"http://\",\"\") #1\n",
    "my = my[:my.index(\".\")] #2\n",
    "\n",
    "password = my[:3] + str(len(my)) + str(my.count(\"e\")) + \"!\"\n",
    "\n",
    "print(\"{0}의 비밀번호는 {1}입니다\".format(site, password))\n",
    "\n",
    "    \n",
    "# print(site[7:10] + len(site[7:12] + site.count(\"e\") + \"!\") -> 잘못 푼 예\n",
    "\n",
    "\n",
    "    \n"
   ]
  }
 ],
 "metadata": {
  "kernelspec": {
   "display_name": "Python 3",
   "language": "python",
   "name": "python3"
  },
  "language_info": {
   "codemirror_mode": {
    "name": "ipython",
    "version": 3
   },
   "file_extension": ".py",
   "mimetype": "text/x-python",
   "name": "python",
   "nbconvert_exporter": "python",
   "pygments_lexer": "ipython3",
   "version": "3.8.4"
  }
 },
 "nbformat": 4,
 "nbformat_minor": 4
}
