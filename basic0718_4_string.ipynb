{
 "cells": [
  {
   "cell_type": "code",
   "execution_count": null,
   "metadata": {},
   "outputs": [],
   "source": [
    "#문자열 이해"
   ]
  },
  {
   "cell_type": "code",
   "execution_count": 2,
   "metadata": {},
   "outputs": [
    {
     "name": "stdout",
     "output_type": "stream",
     "text": [
      "loveyou\n"
     ]
    }
   ],
   "source": [
    "a = \"loveyou\"\n",
    "print(a)"
   ]
  },
  {
   "cell_type": "code",
   "execution_count": 3,
   "metadata": {},
   "outputs": [
    {
     "data": {
      "text/plain": [
       "7"
      ]
     },
     "execution_count": 3,
     "metadata": {},
     "output_type": "execute_result"
    }
   ],
   "source": [
    "#문자 길이 나타낼 때\n",
    "len(a)"
   ]
  },
  {
   "cell_type": "code",
   "execution_count": 7,
   "metadata": {},
   "outputs": [
    {
     "data": {
      "text/plain": [
       "'LOVEYOU'"
      ]
     },
     "execution_count": 7,
     "metadata": {},
     "output_type": "execute_result"
    }
   ],
   "source": [
    "#대문자로 출력하고 싶을 때 #함수기능이므로 괄호 잊지않도록 주의!\n",
    "a.upper()"
   ]
  },
  {
   "cell_type": "code",
   "execution_count": 8,
   "metadata": {},
   "outputs": [
    {
     "data": {
      "text/plain": [
       "'loveyou'"
      ]
     },
     "execution_count": 8,
     "metadata": {},
     "output_type": "execute_result"
    }
   ],
   "source": [
    "#소문자로 출력하고 싶을 때\n",
    "a.lower()"
   ]
  },
  {
   "cell_type": "code",
   "execution_count": 11,
   "metadata": {},
   "outputs": [
    {
     "name": "stdout",
     "output_type": "stream",
     "text": [
      "I study english\n"
     ]
    }
   ],
   "source": [
    "#포맷팅 기본 #문자열따옴표 주의!\n",
    "print(\"I study {}\".format(\"english\"))"
   ]
  },
  {
   "cell_type": "code",
   "execution_count": 12,
   "metadata": {
    "scrolled": true
   },
   "outputs": [
    {
     "name": "stdout",
     "output_type": "stream",
     "text": [
      "integer:10, string : 냥냥, float:0.1\n"
     ]
    }
   ],
   "source": [
    "#딕셔너리 자료형 포맷팅 응용 #중괄호 안은 포맷함수값이 들어가기 위해 뚫어놓은 것\n",
    "print(\"integer:{}, string : {}, float:{}\".format(10, \"냥냥\", 0.1))"
   ]
  },
  {
   "cell_type": "code",
   "execution_count": 16,
   "metadata": {},
   "outputs": [
    {
     "name": "stdout",
     "output_type": "stream",
     "text": [
      "I like you\n"
     ]
    }
   ],
   "source": [
    "#문자열 합치고 싶을 때 #출력 시 띄어쓰기는 빈 문자열 공간 활용! 문자열 안에 띄어쓰기 적용해야 띄어쓸 수 있다\n",
    "print(\"I\"+\" \"+\"like\"+\" \"+\"you\")"
   ]
  },
  {
   "cell_type": "code",
   "execution_count": 29,
   "metadata": {},
   "outputs": [
    {
     "name": "stdout",
     "output_type": "stream",
     "text": [
      "I like you\n"
     ]
    }
   ],
   "source": [
    "#프린트로 띄어쓰기하여 출력 시\n",
    "print(\"I like you\")"
   ]
  },
  {
   "cell_type": "code",
   "execution_count": 20,
   "metadata": {},
   "outputs": [],
   "source": [
    "rose = \"areum\""
   ]
  },
  {
   "cell_type": "code",
   "execution_count": 25,
   "metadata": {},
   "outputs": [
    {
     "data": {
      "text/plain": [
       "'a'"
      ]
     },
     "execution_count": 25,
     "metadata": {},
     "output_type": "execute_result"
    }
   ],
   "source": [
    "#문자열 안의 단어중 원하는 글자만 꺼내오고 싶을 때 숫자 지정하여 값 출력\n",
    "#맨 첫번째 값은 0\n",
    "rose[0]"
   ]
  },
  {
   "cell_type": "code",
   "execution_count": null,
   "metadata": {},
   "outputs": [],
   "source": [
    "#전체를 끌어오고 싶을 때 0.1,2,3,4 이렇게 안써도 됨 '':'' 뒤의 숫자는 보다 해당 숫자보다 작은 값\n",
    "rose[0:5]"
   ]
  },
  {
   "cell_type": "code",
   "execution_count": 27,
   "metadata": {},
   "outputs": [
    {
     "name": "stdout",
     "output_type": "stream",
     "text": [
      "i love myself\n"
     ]
    }
   ],
   "source": [
    "#str을 특정 문자 기준(기본값:여백)으로 잘라내서 list로 만들어주기(기준 되는 값은 삭제됨)\n",
    "pride = \"i love myself\"\n",
    "print(pride)"
   ]
  },
  {
   "cell_type": "code",
   "execution_count": 30,
   "metadata": {},
   "outputs": [
    {
     "data": {
      "text/plain": [
       "['i lov', ' my s', 'lf']"
      ]
     },
     "execution_count": 30,
     "metadata": {},
     "output_type": "execute_result"
    }
   ],
   "source": [
    "#특정 문자 기준으로 자를 때 #e가 다 삭제 됨\n",
    "pride = \"i love my self\"\n",
    "pride.split(\"e\")"
   ]
  },
  {
   "cell_type": "code",
   "execution_count": 31,
   "metadata": {},
   "outputs": [
    {
     "data": {
      "text/plain": [
       "'I_love_myself'"
      ]
     },
     "execution_count": 31,
     "metadata": {},
     "output_type": "execute_result"
    }
   ],
   "source": [
    "#리스트 자료형 str '_' 적용하여 합칠 때\n",
    "pride = [\"I\", \"love\", \"myself\"]\n",
    "\"_\".join(pride)"
   ]
  },
  {
   "cell_type": "code",
   "execution_count": 33,
   "metadata": {},
   "outputs": [
    {
     "data": {
      "text/plain": [
       "'I love myself'"
      ]
     },
     "execution_count": 33,
     "metadata": {},
     "output_type": "execute_result"
    }
   ],
   "source": [
    "#\"I love myself\"와 같이 합치고 싶을 때\n",
    "\" \".join(pride)"
   ]
  },
  {
   "cell_type": "code",
   "execution_count": 34,
   "metadata": {},
   "outputs": [
    {
     "data": {
      "text/plain": [
       "'891'"
      ]
     },
     "execution_count": 34,
     "metadata": {},
     "output_type": "execute_result"
    }
   ],
   "source": [
    "a = 891\n",
    "str(a)"
   ]
  }
 ],
 "metadata": {
  "kernelspec": {
   "display_name": "Python 3",
   "language": "python",
   "name": "python3"
  },
  "language_info": {
   "codemirror_mode": {
    "name": "ipython",
    "version": 3
   },
   "file_extension": ".py",
   "mimetype": "text/x-python",
   "name": "python",
   "nbconvert_exporter": "python",
   "pygments_lexer": "ipython3",
   "version": "3.8.4"
  }
 },
 "nbformat": 4,
 "nbformat_minor": 4
}
