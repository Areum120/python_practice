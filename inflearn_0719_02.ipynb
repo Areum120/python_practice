{
 "cells": [
  {
   "cell_type": "code",
   "execution_count": 23,
   "metadata": {},
   "outputs": [
    {
     "name": "stdout",
     "output_type": "stream",
     "text": [
      "[10, 20, 30]\n",
      "['유재석', '조세호', '박명수']\n",
      "1\n",
      "['유재석', '조세호', '박명수', '하하']\n",
      "['유재석', '정형돈', '조세호', '박명수', '하하']\n",
      "하하\n",
      "['유재석', '정형돈', '조세호', '박명수']\n",
      "박명수\n",
      "['유재석', '정형돈', '조세호']\n",
      "조세호\n",
      "['유재석', '정형돈']\n",
      "['유재석', '정형돈', '유재석']\n",
      "2\n",
      "[1, 2, 3, 4, 5]\n",
      "[5, 4, 3, 2, 1]\n",
      "[]\n",
      "['조세호', 20, True]\n",
      "[5, 2, 4, 3, 1, '조세호', 20, True]\n"
     ]
    }
   ],
   "source": [
    "#리스트 [] 순서를 가진 객체\n",
    "\n",
    "#지하철 칸별로 10명, 20명, 30명\n",
    "\n",
    "subway1 = 10\n",
    "subway2 = 20\n",
    "subway3 = 30\n",
    "\n",
    "subway = [10, 20, 30]\n",
    "print(subway)\n",
    "\n",
    "subway = [\"유재석\", \"조세호\", \"박명수\"]\n",
    "print(subway)\n",
    "\n",
    "#조세호씨가 몇 번째 칸에 타고 있는가?\n",
    "\n",
    "print(subway.index(\"조세호\"))\n",
    "\n",
    "#하하씨가 다음 정류장에서 다음 칸에 탐\n",
    "subway.append(\"하하\")\n",
    "print(subway)\n",
    "\n",
    "#정형돈씨를 유재석 / 조세호 사이에 태워봄 #1번은 조세호 위치에 넣고 나머지는 뒤로 밀린다는 뜻\n",
    "subway.insert(1, \"정형돈\")\n",
    "print(subway)\n",
    "\n",
    "# 지하철에 있는 사람을 한 명씩 뒤에서 꺼냄\n",
    "print(subway.pop())\n",
    "print(subway)\n",
    "\n",
    "print(subway.pop())\n",
    "print(subway)\n",
    "\n",
    "print(subway.pop())\n",
    "print(subway)\n",
    "\n",
    "#같은 이름의 사람이 몇 명 있는지 확인 \n",
    "subway.append(\"유재석\")\n",
    "print(subway)\n",
    "\n",
    "print(subway.count(\"유재석\"))\n",
    "\n",
    "\n",
    "#정렬도 가능\n",
    "num_list = [5,2,4,3,1]\n",
    "num_list.sort()\n",
    "print(num_list)\n",
    "\n",
    "#순서 뒤집기 가능\n",
    "num_list.reverse()\n",
    "print(num_list)\n",
    "\n",
    "#모두 지우기\n",
    "num_list.clear()\n",
    "print(num_list)\n",
    "\n",
    "#다양한 자료형 함께 사용\n",
    "\n",
    "num_list = [5,2,4,3,1]\n",
    "mix_list = [\"조세호\", 20, True]\n",
    "\n",
    "print(mix_list)\n",
    "\n",
    "\n",
    "#리스트 확장\n",
    "num_list.extend(mix_list)\n",
    "print(num_list)\n",
    "\n",
    "\n"
   ]
  },
  {
   "cell_type": "code",
   "execution_count": 10,
   "metadata": {},
   "outputs": [
    {
     "name": "stdout",
     "output_type": "stream",
     "text": [
      "유재석\n",
      "김태호\n",
      "유재석\n",
      "사용 가능\n",
      "True\n",
      "유재석\n",
      "{'A-3': '유재석', 'B-100': '김태호'}\n",
      "{'A-3': '김종국', 'B-100': '김태호', 'C-20': '조세호'}\n",
      "{'B-100': '김태호', 'C-20': '조세호'}\n",
      "dict_keys(['B-100', 'C-20'])\n",
      "dict_values(['김태호', '조세호'])\n",
      "dict_items([('B-100', '김태호'), ('C-20', '조세호')])\n",
      "{}\n"
     ]
    }
   ],
   "source": [
    "#사전 dictionary\n",
    "\n",
    "cabinet = {3:\"유재석\", 100:\"김태호\"}\n",
    "print(cabinet[3])\n",
    "print(cabinet[100])\n",
    "\n",
    "print(cabinet.get(3))\n",
    "# print(cabinet[5]) 키값이 없을 때는 오류 후 종료\n",
    "# print(cabinet.get(5)) 키값이 없을 때는 none으로 출력\n",
    "\n",
    "print(cabinet.get(5, \"사용 가능\")) #사용가능으로 나옴\n",
    "\n",
    "print(3 in cabinet) #True 확인용\n",
    "\n",
    "cabinet = {\"A-3\":\"유재석\", \"B-100\":\"김태호\"}\n",
    "print(cabinet[\"A-3\"])\n",
    "\n",
    "#새 손님\n",
    "print(cabinet)\n",
    "cabinet[\"A-3\"] = \"김종국\"\n",
    "cabinet[\"C-20\"] = \"조세호\"\n",
    "print(cabinet)\n",
    "\n",
    "#간 손님\n",
    "del cabinet[\"A-3\"]\n",
    "print(cabinet)\n",
    "\n",
    "#key 들만 출력\n",
    "print(cabinet.keys())\n",
    "\n",
    "#value들만 출력\n",
    "print(cabinet.values())\n",
    "\n",
    "#key, value 쌍으로 출력\n",
    "print(cabinet.items())\n",
    "\n",
    "#목욕탕 폐점\n",
    "cabinet.clear()\n",
    "print(cabinet)\n",
    "\n",
    "\n"
   ]
  },
  {
   "cell_type": "code",
   "execution_count": 27,
   "metadata": {},
   "outputs": [
    {
     "name": "stdout",
     "output_type": "stream",
     "text": [
      "돈까스\n",
      "치즈까스\n",
      "김종국 20 코딩\n"
     ]
    }
   ],
   "source": [
    "#튜플(리스트와 다르게 내용변경과 추가가 안됨, 단 변경되지 않은 자료 활용할 때 속도가 빠름)\n",
    "\n",
    "menu = (\"돈까스\", \"치즈까스\")\n",
    "print(menu[0])\n",
    "print(menu[1])\n",
    "\n",
    "# menu.add(\"생선까스\") -> 추가가 안됨\n",
    "\n",
    "name = \"김종국\"\n",
    "age = 20\n",
    "hobby = \"코딩\"\n",
    "print(name, age, hobby)\n",
    "\n",
    "(name, age, hobby) = (\"김종국\", 20, \"코딩\")\n",
    "\n",
    "\n"
   ]
  },
  {
   "cell_type": "code",
   "execution_count": 38,
   "metadata": {},
   "outputs": [
    {
     "name": "stdout",
     "output_type": "stream",
     "text": [
      "{1, 2, 3}\n",
      "{'유재석'}\n",
      "{'유재석'}\n",
      "{'유재석', '양세형', '김태호', '박명수'}\n",
      "{'유재석', '양세형', '김태호', '박명수'}\n",
      "{'김태호', '양세형'}\n",
      "{'김태호', '양세형'}\n",
      "{'김태호', '유재석', '박명수'}\n",
      "{'유재석', '양세형'}\n"
     ]
    }
   ],
   "source": [
    "#집합(set), 중복이 안되고 순서가 없음\n",
    "my_set = {1,2,3,3,3}\n",
    "print(my_set)\n",
    "\n",
    "java = {\"유재석\", \"김태호\", \"양세형\"}\n",
    "python = set([\"유재석\", \"박명수\"])\n",
    "\n",
    "#교집합 (java와 python을 모두 할 수 있는 개발자)\n",
    "\n",
    "print(java&python)\n",
    "print(java.intersection(python))\n",
    "\n",
    "#합집합 (java 할 수 있거나 python 할 수 있는 개발자)\n",
    "\n",
    "print(java | python)\n",
    "print(java.union(python))\n",
    "\n",
    "#차집합 (java 할 수 있지만 python은 할 줄 모르는 개발자)\n",
    "\n",
    "print(java - python)\n",
    "print(java.difference(python))\n",
    "\n",
    "#python 할 줄 아는 사람이 늘어남\n",
    "python.add(\"김태호\")\n",
    "print(python)\n",
    "\n",
    "#java를 잊었어요\n",
    "java.remove(\"김태호\")\n",
    "print(java)\n",
    "\n"
   ]
  },
  {
   "cell_type": "code",
   "execution_count": 39,
   "metadata": {},
   "outputs": [
    {
     "name": "stdout",
     "output_type": "stream",
     "text": [
      "{'우유', '커피', '주스'} <class 'set'>\n",
      "['우유', '커피', '주스'] <class 'list'>\n",
      "('우유', '커피', '주스') <class 'tuple'>\n",
      "{'우유', '커피', '주스'} <class 'set'>\n"
     ]
    }
   ],
   "source": [
    "#자료구조의 변경\n",
    "#커피숍\n",
    "\n",
    "menu = {\"커피\", \"우유\", \"주스\"}\n",
    "print(menu, type(menu))\n",
    "\n",
    "menu = list(menu)\n",
    "print(menu, type(menu))\n",
    "\n",
    "menu = tuple(menu)\n",
    "print(menu, type(menu))\n",
    "\n",
    "menu = set(menu)\n",
    "print(menu, type(menu))"
   ]
  }
 ],
 "metadata": {
  "kernelspec": {
   "display_name": "Python 3",
   "language": "python",
   "name": "python3"
  },
  "language_info": {
   "codemirror_mode": {
    "name": "ipython",
    "version": 3
   },
   "file_extension": ".py",
   "mimetype": "text/x-python",
   "name": "python",
   "nbconvert_exporter": "python",
   "pygments_lexer": "ipython3",
   "version": "3.8.4"
  }
 },
 "nbformat": 4,
 "nbformat_minor": 4
}
